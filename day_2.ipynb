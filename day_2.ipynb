{
 "cells": [
  {
   "cell_type": "code",
   "execution_count": null,
   "metadata": {},
   "outputs": [],
   "source": [
    "# veriler kullanıcı tarafında girilmesi:\n",
    "\n",
    "a=input(\"Please enter your first name: \")\n",
    "b=input(\"Please enter your last name: \")\n",
    "c=int(input(\"Please enter your age: \"))\n",
    "d=int(input(\"Please enter your year(just year) : \"))\n",
    "y=[a,b,c,d]\n",
    "print(y)\n",
    "\n",
    "#indekse ulaşmak bu yöntemle mi for ile mi?\n",
    "\n",
    "age=y[2]\n",
    "\n",
    "if  age<= 18:\n",
    "            print(\"You can't go out because it's too dangerous\")\n",
    "else: \n",
    "            print(\"You can go out to the street\")\n",
    "     \n",
    "        \n"
   ]
  }
 ],
 "metadata": {
  "kernelspec": {
   "display_name": "Python 3",
   "language": "python",
   "name": "python3"
  },
  "language_info": {
   "codemirror_mode": {
    "name": "ipython",
    "version": 3
   },
   "file_extension": ".py",
   "mimetype": "text/x-python",
   "name": "python",
   "nbconvert_exporter": "python",
   "pygments_lexer": "ipython3",
   "version": "3.7.4"
  }
 },
 "nbformat": 4,
 "nbformat_minor": 2
}
