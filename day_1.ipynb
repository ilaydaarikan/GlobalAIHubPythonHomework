{
 "cells": [
  {
   "cell_type": "code",
   "execution_count": 1,
   "metadata": {},
   "outputs": [
    {
     "name": "stdout",
     "output_type": "stream",
     "text": [
      "Please enter a value: 5\n",
      "Please enter a value: 4\n",
      "Please enter a value: 5\n",
      "Please enter a value: 9+\n",
      "Please enter a value: 5\n",
      "Your five values are 5 4 5 9+ 5\n"
     ]
    }
   ],
   "source": [
    "#5 değer girişi ve ekrana yazdırma:\n",
    "\n",
    "x=input(\"Please enter a value: \")\n",
    "y=input(\"Please enter a value: \")\n",
    "z=input(\"Please enter a value: \")\n",
    "t=input(\"Please enter a value: \")\n",
    "v=input(\"Please enter a value: \")\n",
    "print(\"Your five values are {} {} {} {} {}\"  .format(x,y,z,t,v))\n",
    "\n",
    "#print(f'Your five values are {x} {y} {z} {t} {v}')\n"
   ]
  },
  {
   "cell_type": "code",
   "execution_count": 2,
   "metadata": {},
   "outputs": [
    {
     "name": "stdout",
     "output_type": "stream",
     "text": [
      "1. value type you entered  <class 'str'>\n",
      "2. value type you entered  <class 'str'>\n",
      "3. value type you entered  <class 'str'>\n",
      "4. value type you entered  <class 'str'>\n",
      "5. value type you entered  <class 'str'>\n"
     ]
    }
   ],
   "source": [
    "print(\"1. value type you entered \", type(x))\n",
    "print(\"2. value type you entered \", type(y))\n",
    "print(\"3. value type you entered \", type(z))\n",
    "print(\"4. value type you entered \", type(t))\n",
    "print(\"5. value type you entered \", type(v))\n",
    "\n",
    "#sorun şu ki kullanıcı integer girdiğinde type string gözükecek.\n"
   ]
  },
  {
   "cell_type": "code",
   "execution_count": null,
   "metadata": {},
   "outputs": [],
   "source": []
  }
 ],
 "metadata": {
  "kernelspec": {
   "display_name": "Python 3",
   "language": "python",
   "name": "python3"
  },
  "language_info": {
   "codemirror_mode": {
    "name": "ipython",
    "version": 3
   },
   "file_extension": ".py",
   "mimetype": "text/x-python",
   "name": "python",
   "nbconvert_exporter": "python",
   "pygments_lexer": "ipython3",
   "version": "3.7.4"
  }
 },
 "nbformat": 4,
 "nbformat_minor": 2
}
